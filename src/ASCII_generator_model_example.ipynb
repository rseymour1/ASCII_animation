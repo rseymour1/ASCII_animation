{
 "cells": [
  {
   "cell_type": "code",
   "execution_count": null,
   "metadata": {},
   "outputs": [],
   "source": [
    "import torch\n",
    "import torch.nn as nn\n",
    "import gensim.downloader as api # pip install gensim"
   ]
  },
  {
   "cell_type": "code",
   "execution_count": 2,
   "metadata": {},
   "outputs": [],
   "source": [
    "\n",
    "word_model_name=\"glove-twitter-25\"\n",
    "word_model = api.load(word_model_name)\n",
    "\n",
    "embedding_dim = 25\n",
    "\n",
    "output_size = 15 * 6\n",
    "\n",
    "\n",
    "ascii_chars = \" .,:;+*#@$%&0123456789abcdefghijklmnopqrstuvwxyzABCDEFGHIJKLMNOPQRSTUVWXYZ-_=|/\\\\()[]{}\"\n",
    "num_chars = len(ascii_chars)\n",
    "char_to_index = {char: i for i, char in enumerate(ascii_chars)}\n",
    "index_to_char = {i: char for i, char in enumerate(ascii_chars)}\n",
    "\n",
    "class ASCIIArtGenerator(nn.Module):\n",
    "    def __init__(self, input_size, output_size, num_chars):\n",
    "        super(ASCIIArtGenerator, self).__init__()\n",
    "        self.fc1 = nn.Linear(input_size, 512)\n",
    "        self.relu = nn.ReLU()\n",
    "        self.fc2 = nn.Linear(512, 256)\n",
    "        self.fc3 = nn.Linear(256, output_size * num_chars)\n",
    "        self.num_chars = num_chars\n",
    "        self.output_size = output_size\n",
    "\n",
    "    def forward(self, x):\n",
    "        x = self.relu(self.fc1(x))\n",
    "        x = self.relu(self.fc2(x))\n",
    "        x = self.fc3(x)\n",
    "        return x.view(-1, self.output_size, self.num_chars) \n",
    "\n",
    "def generate_ascii_art(model, embedding):\n",
    "    model.eval()\n",
    "    with torch.no_grad():\n",
    "        output = model(embedding.unsqueeze(0))\n",
    "        _, indices = torch.max(output, dim=2)\n",
    "        ascii_grid = \"\"\n",
    "        for i in range(6):\n",
    "            for j in range(15):\n",
    "                ascii_grid += index_to_char[indices[0][i * 15 + j].item()]\n",
    "            ascii_grid += \"\\n\"\n",
    "    return ascii_grid\n",
    "\n",
    "\n",
    "model = ASCIIArtGenerator(embedding_dim, output_size, num_chars)"
   ]
  },
  {
   "cell_type": "code",
   "execution_count": 6,
   "metadata": {},
   "outputs": [
    {
     "name": "stdout",
     "output_type": "stream",
     "text": [
      "=5[i4OTb1rk)NEg\n",
      "V4|;er_mBonvzNr\n",
      "u[j)bUZr$vg,$2*\n",
      "L(KN*5]-bsT4hVl\n",
      "jc):sZzUS| z*PK\n",
      "#[E9Z)PLRL-GdIy\n",
      "\n"
     ]
    }
   ],
   "source": [
    "embedding = torch.tensor(word_model[\"cat\"])\n",
    "\n",
    "ascii_art = generate_ascii_art(model, embedding)\n",
    "print(ascii_art)"
   ]
  }
 ],
 "metadata": {
  "kernelspec": {
   "display_name": "ascii_art",
   "language": "python",
   "name": "python3"
  },
  "language_info": {
   "codemirror_mode": {
    "name": "ipython",
    "version": 3
   },
   "file_extension": ".py",
   "mimetype": "text/x-python",
   "name": "python",
   "nbconvert_exporter": "python",
   "pygments_lexer": "ipython3",
   "version": "3.12.9"
  }
 },
 "nbformat": 4,
 "nbformat_minor": 2
}
